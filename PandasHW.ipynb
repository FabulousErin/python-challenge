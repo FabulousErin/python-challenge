{
 "metadata": {
  "language_info": {
   "codemirror_mode": {
    "name": "ipython",
    "version": 3
   },
   "file_extension": ".py",
   "mimetype": "text/x-python",
   "name": "python",
   "nbconvert_exporter": "python",
   "pygments_lexer": "ipython3",
   "version": "3.8.5"
  },
  "orig_nbformat": 2,
  "kernelspec": {
   "name": "python3",
   "display_name": "Python 3.8.5 64-bit ('base': conda)"
  },
  "interpreter": {
   "hash": "7e619f16047683c59ed8e7b98cbb1ffe918f16ea1397fa52229cf3de81dc0641"
  }
 },
 "nbformat": 4,
 "nbformat_minor": 2,
 "cells": [
  {
   "cell_type": "code",
   "execution_count": 1,
   "metadata": {},
   "outputs": [],
   "source": [
    "#dependencies\n",
    "import matplotlib.pyplot as plt\n",
    "import sklearn.datasets as dta\n",
    "from scipy import stats\n",
    "import numpy as np\n",
    "import pandas as pd\n",
    "import scipy.stats as st"
   ]
  },
  {
   "cell_type": "code",
   "execution_count": 2,
   "metadata": {},
   "outputs": [],
   "source": [
    "#store filepath in a variable\n",
    "school_data_to_load = \"schools_complete.csv\"\n",
    "student_data_to_load = \"students_complete.csv\""
   ]
  },
  {
   "cell_type": "code",
   "execution_count": 3,
   "metadata": {},
   "outputs": [
    {
     "output_type": "execute_result",
     "data": {
      "text/plain": [
       "   School ID            school_name      type  size   budget\n",
       "0          0      Huang High School  District  2917  1910635\n",
       "1          1   Figueroa High School  District  2949  1884411\n",
       "2          2    Shelton High School   Charter  1761  1056600\n",
       "3          3  Hernandez High School  District  4635  3022020\n",
       "4          4    Griffin High School   Charter  1468   917500"
      ],
      "text/html": "<div>\n<style scoped>\n    .dataframe tbody tr th:only-of-type {\n        vertical-align: middle;\n    }\n\n    .dataframe tbody tr th {\n        vertical-align: top;\n    }\n\n    .dataframe thead th {\n        text-align: right;\n    }\n</style>\n<table border=\"1\" class=\"dataframe\">\n  <thead>\n    <tr style=\"text-align: right;\">\n      <th></th>\n      <th>School ID</th>\n      <th>school_name</th>\n      <th>type</th>\n      <th>size</th>\n      <th>budget</th>\n    </tr>\n  </thead>\n  <tbody>\n    <tr>\n      <th>0</th>\n      <td>0</td>\n      <td>Huang High School</td>\n      <td>District</td>\n      <td>2917</td>\n      <td>1910635</td>\n    </tr>\n    <tr>\n      <th>1</th>\n      <td>1</td>\n      <td>Figueroa High School</td>\n      <td>District</td>\n      <td>2949</td>\n      <td>1884411</td>\n    </tr>\n    <tr>\n      <th>2</th>\n      <td>2</td>\n      <td>Shelton High School</td>\n      <td>Charter</td>\n      <td>1761</td>\n      <td>1056600</td>\n    </tr>\n    <tr>\n      <th>3</th>\n      <td>3</td>\n      <td>Hernandez High School</td>\n      <td>District</td>\n      <td>4635</td>\n      <td>3022020</td>\n    </tr>\n    <tr>\n      <th>4</th>\n      <td>4</td>\n      <td>Griffin High School</td>\n      <td>Charter</td>\n      <td>1468</td>\n      <td>917500</td>\n    </tr>\n  </tbody>\n</table>\n</div>"
     },
     "metadata": {},
     "execution_count": 3
    }
   ],
   "source": [
    "#read datapath with pandas and display heading of school info\n",
    "school=pd.read_csv(school_data_to_load)\n",
    "school.head()"
   ]
  },
  {
   "cell_type": "code",
   "execution_count": 4,
   "metadata": {},
   "outputs": [
    {
     "output_type": "execute_result",
     "data": {
      "text/plain": [
       "   Student ID       student_name gender grade        school_name  \\\n",
       "0           0       Paul Bradley      M   9th  Huang High School   \n",
       "1           1       Victor Smith      M  12th  Huang High School   \n",
       "2           2    Kevin Rodriguez      M  12th  Huang High School   \n",
       "3           3  Dr. Richard Scott      M  12th  Huang High School   \n",
       "4           4         Bonnie Ray      F   9th  Huang High School   \n",
       "\n",
       "   reading_score  math_score  \n",
       "0             66          79  \n",
       "1             94          61  \n",
       "2             90          60  \n",
       "3             67          58  \n",
       "4             97          84  "
      ],
      "text/html": "<div>\n<style scoped>\n    .dataframe tbody tr th:only-of-type {\n        vertical-align: middle;\n    }\n\n    .dataframe tbody tr th {\n        vertical-align: top;\n    }\n\n    .dataframe thead th {\n        text-align: right;\n    }\n</style>\n<table border=\"1\" class=\"dataframe\">\n  <thead>\n    <tr style=\"text-align: right;\">\n      <th></th>\n      <th>Student ID</th>\n      <th>student_name</th>\n      <th>gender</th>\n      <th>grade</th>\n      <th>school_name</th>\n      <th>reading_score</th>\n      <th>math_score</th>\n    </tr>\n  </thead>\n  <tbody>\n    <tr>\n      <th>0</th>\n      <td>0</td>\n      <td>Paul Bradley</td>\n      <td>M</td>\n      <td>9th</td>\n      <td>Huang High School</td>\n      <td>66</td>\n      <td>79</td>\n    </tr>\n    <tr>\n      <th>1</th>\n      <td>1</td>\n      <td>Victor Smith</td>\n      <td>M</td>\n      <td>12th</td>\n      <td>Huang High School</td>\n      <td>94</td>\n      <td>61</td>\n    </tr>\n    <tr>\n      <th>2</th>\n      <td>2</td>\n      <td>Kevin Rodriguez</td>\n      <td>M</td>\n      <td>12th</td>\n      <td>Huang High School</td>\n      <td>90</td>\n      <td>60</td>\n    </tr>\n    <tr>\n      <th>3</th>\n      <td>3</td>\n      <td>Dr. Richard Scott</td>\n      <td>M</td>\n      <td>12th</td>\n      <td>Huang High School</td>\n      <td>67</td>\n      <td>58</td>\n    </tr>\n    <tr>\n      <th>4</th>\n      <td>4</td>\n      <td>Bonnie Ray</td>\n      <td>F</td>\n      <td>9th</td>\n      <td>Huang High School</td>\n      <td>97</td>\n      <td>84</td>\n    </tr>\n  </tbody>\n</table>\n</div>"
     },
     "metadata": {},
     "execution_count": 4
    }
   ],
   "source": [
    "#read datapath with pandas and display heading of student info\n",
    "students=pd.read_csv(student_data_to_load)\n",
    "students.head()"
   ]
  },
  {
   "cell_type": "code",
   "execution_count": 6,
   "metadata": {},
   "outputs": [
    {
     "output_type": "execute_result",
     "data": {
      "text/plain": [
       "39170"
      ]
     },
     "metadata": {},
     "execution_count": 6
    }
   ],
   "source": [
    "#sum schools, students and budget\n",
    "total_schools = len(school[\"school_name\"].unique())\n",
    "total_students = (students[\"Student ID\"]).count()\n",
    "total_budget = sum(school[\"budget\"])\n",
    "#calculate students' average score on math and reading\n",
    "avg_math = students[[\"math_score\"]].mean()\n",
    "avg_reading=students[[\"reading_score\"]].mean()\n",
    "total_students\n"
   ]
  },
  {
   "cell_type": "code",
   "execution_count": 7,
   "metadata": {},
   "outputs": [],
   "source": [
    "#create a dataframe for only students with math scores >= 65 for math and a data frame for only students with reading scores >= 65\n",
    "mathpass_df = students.loc[students[\"math_score\"] >= 65, :]\n",
    "readpass_df = students.loc[students[\"reading_score\"] >= 65, :]\n",
    "students_math=mathpass_df.count()\n",
    "students_read=readpass_df.count()"
   ]
  },
  {
   "cell_type": "code",
   "execution_count": 8,
   "metadata": {},
   "outputs": [
    {
     "output_type": "stream",
     "name": "stdout",
     "text": [
      "There are 33188 students passing math and 37681 passing reading.\n"
     ]
    }
   ],
   "source": [
    "#sum the number of students with passing math scores and passing reading scores\n",
    "mathpass_students=(mathpass_df[\"math_score\"]).count()\n",
    "readpass_students=(readpass_df[\"reading_score\"]).count()\n",
    "print(f\"There are {mathpass_students} students passing math and {readpass_students} passing reading.\")"
   ]
  },
  {
   "cell_type": "code",
   "execution_count": 9,
   "metadata": {},
   "outputs": [
    {
     "output_type": "stream",
     "name": "stdout",
     "text": [
      "There are 84.72810824610671% students passing math and 96.19862139392393% passing reading.\n"
     ]
    }
   ],
   "source": [
    "#calculate what percentage of students are passing math and reading\n",
    "percent_math_pass = mathpass_students/total_students\n",
    "percent_read_pass = readpass_students/total_students\n",
    "print(f\"There are {percent_math_pass*100}% students passing math and {percent_read_pass*100}% passing reading.\")"
   ]
  },
  {
   "cell_type": "code",
   "execution_count": 10,
   "metadata": {},
   "outputs": [
    {
     "output_type": "execute_result",
     "data": {
      "text/plain": [
       "       Student ID     student_name gender grade         school_name  \\\n",
       "0               0     Paul Bradley      M   9th   Huang High School   \n",
       "4               4       Bonnie Ray      F   9th   Huang High School   \n",
       "5               5    Bryan Miranda      M   9th   Huang High School   \n",
       "6               6    Sheena Carter      F  11th   Huang High School   \n",
       "7               7     Nicole Baker      F  12th   Huang High School   \n",
       "...           ...              ...    ...   ...                 ...   \n",
       "39165       39165     Donna Howard      F  12th  Thomas High School   \n",
       "39166       39166        Dawn Bell      F  10th  Thomas High School   \n",
       "39167       39167   Rebecca Tanner      F   9th  Thomas High School   \n",
       "39168       39168     Desiree Kidd      F  10th  Thomas High School   \n",
       "39169       39169  Carolyn Jackson      F  11th  Thomas High School   \n",
       "\n",
       "       reading_score  math_score  \n",
       "0                 66          79  \n",
       "4                 97          84  \n",
       "5                 94          94  \n",
       "6                 82          80  \n",
       "7                 96          69  \n",
       "...              ...         ...  \n",
       "39165             99          90  \n",
       "39166             95          70  \n",
       "39167             73          84  \n",
       "39168             99          90  \n",
       "39169             95          75  \n",
       "\n",
       "[32028 rows x 7 columns]"
      ],
      "text/html": "<div>\n<style scoped>\n    .dataframe tbody tr th:only-of-type {\n        vertical-align: middle;\n    }\n\n    .dataframe tbody tr th {\n        vertical-align: top;\n    }\n\n    .dataframe thead th {\n        text-align: right;\n    }\n</style>\n<table border=\"1\" class=\"dataframe\">\n  <thead>\n    <tr style=\"text-align: right;\">\n      <th></th>\n      <th>Student ID</th>\n      <th>student_name</th>\n      <th>gender</th>\n      <th>grade</th>\n      <th>school_name</th>\n      <th>reading_score</th>\n      <th>math_score</th>\n    </tr>\n  </thead>\n  <tbody>\n    <tr>\n      <th>0</th>\n      <td>0</td>\n      <td>Paul Bradley</td>\n      <td>M</td>\n      <td>9th</td>\n      <td>Huang High School</td>\n      <td>66</td>\n      <td>79</td>\n    </tr>\n    <tr>\n      <th>4</th>\n      <td>4</td>\n      <td>Bonnie Ray</td>\n      <td>F</td>\n      <td>9th</td>\n      <td>Huang High School</td>\n      <td>97</td>\n      <td>84</td>\n    </tr>\n    <tr>\n      <th>5</th>\n      <td>5</td>\n      <td>Bryan Miranda</td>\n      <td>M</td>\n      <td>9th</td>\n      <td>Huang High School</td>\n      <td>94</td>\n      <td>94</td>\n    </tr>\n    <tr>\n      <th>6</th>\n      <td>6</td>\n      <td>Sheena Carter</td>\n      <td>F</td>\n      <td>11th</td>\n      <td>Huang High School</td>\n      <td>82</td>\n      <td>80</td>\n    </tr>\n    <tr>\n      <th>7</th>\n      <td>7</td>\n      <td>Nicole Baker</td>\n      <td>F</td>\n      <td>12th</td>\n      <td>Huang High School</td>\n      <td>96</td>\n      <td>69</td>\n    </tr>\n    <tr>\n      <th>...</th>\n      <td>...</td>\n      <td>...</td>\n      <td>...</td>\n      <td>...</td>\n      <td>...</td>\n      <td>...</td>\n      <td>...</td>\n    </tr>\n    <tr>\n      <th>39165</th>\n      <td>39165</td>\n      <td>Donna Howard</td>\n      <td>F</td>\n      <td>12th</td>\n      <td>Thomas High School</td>\n      <td>99</td>\n      <td>90</td>\n    </tr>\n    <tr>\n      <th>39166</th>\n      <td>39166</td>\n      <td>Dawn Bell</td>\n      <td>F</td>\n      <td>10th</td>\n      <td>Thomas High School</td>\n      <td>95</td>\n      <td>70</td>\n    </tr>\n    <tr>\n      <th>39167</th>\n      <td>39167</td>\n      <td>Rebecca Tanner</td>\n      <td>F</td>\n      <td>9th</td>\n      <td>Thomas High School</td>\n      <td>73</td>\n      <td>84</td>\n    </tr>\n    <tr>\n      <th>39168</th>\n      <td>39168</td>\n      <td>Desiree Kidd</td>\n      <td>F</td>\n      <td>10th</td>\n      <td>Thomas High School</td>\n      <td>99</td>\n      <td>90</td>\n    </tr>\n    <tr>\n      <th>39169</th>\n      <td>39169</td>\n      <td>Carolyn Jackson</td>\n      <td>F</td>\n      <td>11th</td>\n      <td>Thomas High School</td>\n      <td>95</td>\n      <td>75</td>\n    </tr>\n  </tbody>\n</table>\n<p>32028 rows × 7 columns</p>\n</div>"
     },
     "metadata": {},
     "execution_count": 10
    }
   ],
   "source": [
    "#create a datafram for only students passing BOTH math and reading, show heading\n",
    "bothpass_df = students.loc[(students[\"math_score\"] >=65) & (students[\"reading_score\"] >=65)]\n",
    "bothpass_df\n"
   ]
  },
  {
   "cell_type": "code",
   "execution_count": 11,
   "metadata": {},
   "outputs": [
    {
     "output_type": "execute_result",
     "data": {
      "text/plain": [
       "32028"
      ]
     },
     "metadata": {},
     "execution_count": 11
    }
   ],
   "source": [
    "#sum the students who passed both math and reading\n",
    "total_pass = (bothpass_df[\"Student ID\"]).count()\n",
    "total_pass"
   ]
  },
  {
   "cell_type": "code",
   "execution_count": 12,
   "metadata": {},
   "outputs": [
    {
     "output_type": "stream",
     "name": "stdout",
     "text": [
      "There are 39170 students. There are 33188 students passing math and 37681 passing reading. There are 32028 students passing both math and reading which is 81.76665815675261% of all students.\n"
     ]
    }
   ],
   "source": [
    "#calculate the percentage of students who are passing both math and reading\n",
    "overall_pass=total_pass/total_students\n",
    "print(f\"There are {total_students} students. There are {mathpass_students} students passing math and {readpass_students} passing reading. There are {total_pass} students passing both math and reading which is {overall_pass*100}% of all students.\")\n"
   ]
  },
  {
   "cell_type": "code",
   "execution_count": 13,
   "metadata": {},
   "outputs": [
    {
     "output_type": "execute_result",
     "data": {
      "text/plain": [
       "               Total Schools  Total Students  Total Budget  \\\n",
       "reading_score             15           39170      24649428   \n",
       "\n",
       "                  Average Math Score  Average Reading Score  % Passing Math  \\\n",
       "reading_score  [[78.98537145774827]]               81.87784        0.847281   \n",
       "\n",
       "               % Passing Reading  % Passing Overall  \n",
       "reading_score           0.961986           0.817667  "
      ],
      "text/html": "<div>\n<style scoped>\n    .dataframe tbody tr th:only-of-type {\n        vertical-align: middle;\n    }\n\n    .dataframe tbody tr th {\n        vertical-align: top;\n    }\n\n    .dataframe thead th {\n        text-align: right;\n    }\n</style>\n<table border=\"1\" class=\"dataframe\">\n  <thead>\n    <tr style=\"text-align: right;\">\n      <th></th>\n      <th>Total Schools</th>\n      <th>Total Students</th>\n      <th>Total Budget</th>\n      <th>Average Math Score</th>\n      <th>Average Reading Score</th>\n      <th>% Passing Math</th>\n      <th>% Passing Reading</th>\n      <th>% Passing Overall</th>\n    </tr>\n  </thead>\n  <tbody>\n    <tr>\n      <th>reading_score</th>\n      <td>15</td>\n      <td>39170</td>\n      <td>24649428</td>\n      <td>[[78.98537145774827]]</td>\n      <td>81.87784</td>\n      <td>0.847281</td>\n      <td>0.961986</td>\n      <td>0.817667</td>\n    </tr>\n  </tbody>\n</table>\n</div>"
     },
     "metadata": {},
     "execution_count": 13
    }
   ],
   "source": [
    "#create summary table\n",
    "districtsum_df = pd.DataFrame({\"Total Schools\":[total_schools],\"Total Students\":total_students,\"Total Budget\":total_budget,\"Average Math Score\":[[avg_math]],\"Average Reading Score\":avg_reading,\"% Passing Math\":percent_math_pass,\"% Passing Reading\":percent_read_pass,\"% Passing Overall\":overall_pass})\n",
    "\n",
    "districtsum_df\n"
   ]
  },
  {
   "cell_type": "code",
   "execution_count": 14,
   "metadata": {},
   "outputs": [
    {
     "output_type": "execute_result",
     "data": {
      "text/plain": [
       "                       Student ID  student_name  gender  grade  reading_score  \\\n",
       "school_name                                                                     \n",
       "Bailey High School           4976          4976    4976   4976           4976   \n",
       "Cabrera High School          1858          1858    1858   1858           1858   \n",
       "Figueroa High School         2949          2949    2949   2949           2949   \n",
       "Ford High School             2739          2739    2739   2739           2739   \n",
       "Griffin High School          1468          1468    1468   1468           1468   \n",
       "Hernandez High School        4635          4635    4635   4635           4635   \n",
       "Holden High School            427           427     427    427            427   \n",
       "Huang High School            2917          2917    2917   2917           2917   \n",
       "Johnson High School          4761          4761    4761   4761           4761   \n",
       "Pena High School              962           962     962    962            962   \n",
       "Rodriguez High School        3999          3999    3999   3999           3999   \n",
       "Shelton High School          1761          1761    1761   1761           1761   \n",
       "Thomas High School           1635          1635    1635   1635           1635   \n",
       "Wilson High School           2283          2283    2283   2283           2283   \n",
       "Wright High School           1800          1800    1800   1800           1800   \n",
       "\n",
       "                       math_score  \n",
       "school_name                        \n",
       "Bailey High School           4976  \n",
       "Cabrera High School          1858  \n",
       "Figueroa High School         2949  \n",
       "Ford High School             2739  \n",
       "Griffin High School          1468  \n",
       "Hernandez High School        4635  \n",
       "Holden High School            427  \n",
       "Huang High School            2917  \n",
       "Johnson High School          4761  \n",
       "Pena High School              962  \n",
       "Rodriguez High School        3999  \n",
       "Shelton High School          1761  \n",
       "Thomas High School           1635  \n",
       "Wilson High School           2283  \n",
       "Wright High School           1800  "
      ],
      "text/html": "<div>\n<style scoped>\n    .dataframe tbody tr th:only-of-type {\n        vertical-align: middle;\n    }\n\n    .dataframe tbody tr th {\n        vertical-align: top;\n    }\n\n    .dataframe thead th {\n        text-align: right;\n    }\n</style>\n<table border=\"1\" class=\"dataframe\">\n  <thead>\n    <tr style=\"text-align: right;\">\n      <th></th>\n      <th>Student ID</th>\n      <th>student_name</th>\n      <th>gender</th>\n      <th>grade</th>\n      <th>reading_score</th>\n      <th>math_score</th>\n    </tr>\n    <tr>\n      <th>school_name</th>\n      <th></th>\n      <th></th>\n      <th></th>\n      <th></th>\n      <th></th>\n      <th></th>\n    </tr>\n  </thead>\n  <tbody>\n    <tr>\n      <th>Bailey High School</th>\n      <td>4976</td>\n      <td>4976</td>\n      <td>4976</td>\n      <td>4976</td>\n      <td>4976</td>\n      <td>4976</td>\n    </tr>\n    <tr>\n      <th>Cabrera High School</th>\n      <td>1858</td>\n      <td>1858</td>\n      <td>1858</td>\n      <td>1858</td>\n      <td>1858</td>\n      <td>1858</td>\n    </tr>\n    <tr>\n      <th>Figueroa High School</th>\n      <td>2949</td>\n      <td>2949</td>\n      <td>2949</td>\n      <td>2949</td>\n      <td>2949</td>\n      <td>2949</td>\n    </tr>\n    <tr>\n      <th>Ford High School</th>\n      <td>2739</td>\n      <td>2739</td>\n      <td>2739</td>\n      <td>2739</td>\n      <td>2739</td>\n      <td>2739</td>\n    </tr>\n    <tr>\n      <th>Griffin High School</th>\n      <td>1468</td>\n      <td>1468</td>\n      <td>1468</td>\n      <td>1468</td>\n      <td>1468</td>\n      <td>1468</td>\n    </tr>\n    <tr>\n      <th>Hernandez High School</th>\n      <td>4635</td>\n      <td>4635</td>\n      <td>4635</td>\n      <td>4635</td>\n      <td>4635</td>\n      <td>4635</td>\n    </tr>\n    <tr>\n      <th>Holden High School</th>\n      <td>427</td>\n      <td>427</td>\n      <td>427</td>\n      <td>427</td>\n      <td>427</td>\n      <td>427</td>\n    </tr>\n    <tr>\n      <th>Huang High School</th>\n      <td>2917</td>\n      <td>2917</td>\n      <td>2917</td>\n      <td>2917</td>\n      <td>2917</td>\n      <td>2917</td>\n    </tr>\n    <tr>\n      <th>Johnson High School</th>\n      <td>4761</td>\n      <td>4761</td>\n      <td>4761</td>\n      <td>4761</td>\n      <td>4761</td>\n      <td>4761</td>\n    </tr>\n    <tr>\n      <th>Pena High School</th>\n      <td>962</td>\n      <td>962</td>\n      <td>962</td>\n      <td>962</td>\n      <td>962</td>\n      <td>962</td>\n    </tr>\n    <tr>\n      <th>Rodriguez High School</th>\n      <td>3999</td>\n      <td>3999</td>\n      <td>3999</td>\n      <td>3999</td>\n      <td>3999</td>\n      <td>3999</td>\n    </tr>\n    <tr>\n      <th>Shelton High School</th>\n      <td>1761</td>\n      <td>1761</td>\n      <td>1761</td>\n      <td>1761</td>\n      <td>1761</td>\n      <td>1761</td>\n    </tr>\n    <tr>\n      <th>Thomas High School</th>\n      <td>1635</td>\n      <td>1635</td>\n      <td>1635</td>\n      <td>1635</td>\n      <td>1635</td>\n      <td>1635</td>\n    </tr>\n    <tr>\n      <th>Wilson High School</th>\n      <td>2283</td>\n      <td>2283</td>\n      <td>2283</td>\n      <td>2283</td>\n      <td>2283</td>\n      <td>2283</td>\n    </tr>\n    <tr>\n      <th>Wright High School</th>\n      <td>1800</td>\n      <td>1800</td>\n      <td>1800</td>\n      <td>1800</td>\n      <td>1800</td>\n      <td>1800</td>\n    </tr>\n  </tbody>\n</table>\n</div>"
     },
     "metadata": {},
     "execution_count": 14
    }
   ],
   "source": [
    "students.groupby(\"school_name\").count()"
   ]
  },
  {
   "cell_type": "code",
   "execution_count": 15,
   "metadata": {},
   "outputs": [
    {
     "output_type": "execute_result",
     "data": {
      "text/plain": [
       "Bailey High School       4976\n",
       "Johnson High School      4761\n",
       "Hernandez High School    4635\n",
       "Rodriguez High School    3999\n",
       "Figueroa High School     2949\n",
       "Huang High School        2917\n",
       "Ford High School         2739\n",
       "Wilson High School       2283\n",
       "Cabrera High School      1858\n",
       "Wright High School       1800\n",
       "Shelton High School      1761\n",
       "Thomas High School       1635\n",
       "Griffin High School      1468\n",
       "Pena High School          962\n",
       "Holden High School        427\n",
       "Name: school_name, dtype: int64"
      ]
     },
     "metadata": {},
     "execution_count": 15
    }
   ],
   "source": [
    "student_counts = students[\"school_name\"].value_counts()\n",
    "student_counts"
   ]
  },
  {
   "cell_type": "code",
   "execution_count": 22,
   "metadata": {},
   "outputs": [
    {
     "output_type": "execute_result",
     "data": {
      "text/plain": [
       "   School ID        school_name      type  size   budget  Student ID  \\\n",
       "0          0  Huang High School  District  2917  1910635           0   \n",
       "1          0  Huang High School  District  2917  1910635           1   \n",
       "2          0  Huang High School  District  2917  1910635           2   \n",
       "3          0  Huang High School  District  2917  1910635           3   \n",
       "4          0  Huang High School  District  2917  1910635           4   \n",
       "\n",
       "        student_name gender grade  reading_score  math_score  \n",
       "0       Paul Bradley      M   9th             66          79  \n",
       "1       Victor Smith      M  12th             94          61  \n",
       "2    Kevin Rodriguez      M  12th             90          60  \n",
       "3  Dr. Richard Scott      M  12th             67          58  \n",
       "4         Bonnie Ray      F   9th             97          84  "
      ],
      "text/html": "<div>\n<style scoped>\n    .dataframe tbody tr th:only-of-type {\n        vertical-align: middle;\n    }\n\n    .dataframe tbody tr th {\n        vertical-align: top;\n    }\n\n    .dataframe thead th {\n        text-align: right;\n    }\n</style>\n<table border=\"1\" class=\"dataframe\">\n  <thead>\n    <tr style=\"text-align: right;\">\n      <th></th>\n      <th>School ID</th>\n      <th>school_name</th>\n      <th>type</th>\n      <th>size</th>\n      <th>budget</th>\n      <th>Student ID</th>\n      <th>student_name</th>\n      <th>gender</th>\n      <th>grade</th>\n      <th>reading_score</th>\n      <th>math_score</th>\n    </tr>\n  </thead>\n  <tbody>\n    <tr>\n      <th>0</th>\n      <td>0</td>\n      <td>Huang High School</td>\n      <td>District</td>\n      <td>2917</td>\n      <td>1910635</td>\n      <td>0</td>\n      <td>Paul Bradley</td>\n      <td>M</td>\n      <td>9th</td>\n      <td>66</td>\n      <td>79</td>\n    </tr>\n    <tr>\n      <th>1</th>\n      <td>0</td>\n      <td>Huang High School</td>\n      <td>District</td>\n      <td>2917</td>\n      <td>1910635</td>\n      <td>1</td>\n      <td>Victor Smith</td>\n      <td>M</td>\n      <td>12th</td>\n      <td>94</td>\n      <td>61</td>\n    </tr>\n    <tr>\n      <th>2</th>\n      <td>0</td>\n      <td>Huang High School</td>\n      <td>District</td>\n      <td>2917</td>\n      <td>1910635</td>\n      <td>2</td>\n      <td>Kevin Rodriguez</td>\n      <td>M</td>\n      <td>12th</td>\n      <td>90</td>\n      <td>60</td>\n    </tr>\n    <tr>\n      <th>3</th>\n      <td>0</td>\n      <td>Huang High School</td>\n      <td>District</td>\n      <td>2917</td>\n      <td>1910635</td>\n      <td>3</td>\n      <td>Dr. Richard Scott</td>\n      <td>M</td>\n      <td>12th</td>\n      <td>67</td>\n      <td>58</td>\n    </tr>\n    <tr>\n      <th>4</th>\n      <td>0</td>\n      <td>Huang High School</td>\n      <td>District</td>\n      <td>2917</td>\n      <td>1910635</td>\n      <td>4</td>\n      <td>Bonnie Ray</td>\n      <td>F</td>\n      <td>9th</td>\n      <td>97</td>\n      <td>84</td>\n    </tr>\n  </tbody>\n</table>\n</div>"
     },
     "metadata": {},
     "execution_count": 22
    }
   ],
   "source": [
    "merged_df = pd.merge(school, students, on=\"school_name\", how=\"outer\")\n",
    "merged_df.head()"
   ]
  },
  {
   "cell_type": "code",
   "execution_count": 40,
   "metadata": {},
   "outputs": [
    {
     "output_type": "execute_result",
     "data": {
      "text/plain": [
       "                       School ID  type  size  budget  Student ID  \\\n",
       "school_name                                                        \n",
       "Bailey High School          4976  4976  4976    4976        4976   \n",
       "Cabrera High School         1858  1858  1858    1858        1858   \n",
       "Figueroa High School        2949  2949  2949    2949        2949   \n",
       "Ford High School            2739  2739  2739    2739        2739   \n",
       "Griffin High School         1468  1468  1468    1468        1468   \n",
       "Hernandez High School       4635  4635  4635    4635        4635   \n",
       "Holden High School           427   427   427     427         427   \n",
       "Huang High School           2917  2917  2917    2917        2917   \n",
       "Johnson High School         4761  4761  4761    4761        4761   \n",
       "Pena High School             962   962   962     962         962   \n",
       "Rodriguez High School       3999  3999  3999    3999        3999   \n",
       "Shelton High School         1761  1761  1761    1761        1761   \n",
       "Thomas High School          1635  1635  1635    1635        1635   \n",
       "Wilson High School          2283  2283  2283    2283        2283   \n",
       "Wright High School          1800  1800  1800    1800        1800   \n",
       "\n",
       "                       student_name  gender  grade  reading_score  math_score  \n",
       "school_name                                                                    \n",
       "Bailey High School             4976    4976   4976           4976        4976  \n",
       "Cabrera High School            1858    1858   1858           1858        1858  \n",
       "Figueroa High School           2949    2949   2949           2949        2949  \n",
       "Ford High School               2739    2739   2739           2739        2739  \n",
       "Griffin High School            1468    1468   1468           1468        1468  \n",
       "Hernandez High School          4635    4635   4635           4635        4635  \n",
       "Holden High School              427     427    427            427         427  \n",
       "Huang High School              2917    2917   2917           2917        2917  \n",
       "Johnson High School            4761    4761   4761           4761        4761  \n",
       "Pena High School                962     962    962            962         962  \n",
       "Rodriguez High School          3999    3999   3999           3999        3999  \n",
       "Shelton High School            1761    1761   1761           1761        1761  \n",
       "Thomas High School             1635    1635   1635           1635        1635  \n",
       "Wilson High School             2283    2283   2283           2283        2283  \n",
       "Wright High School             1800    1800   1800           1800        1800  "
      ],
      "text/html": "<div>\n<style scoped>\n    .dataframe tbody tr th:only-of-type {\n        vertical-align: middle;\n    }\n\n    .dataframe tbody tr th {\n        vertical-align: top;\n    }\n\n    .dataframe thead th {\n        text-align: right;\n    }\n</style>\n<table border=\"1\" class=\"dataframe\">\n  <thead>\n    <tr style=\"text-align: right;\">\n      <th></th>\n      <th>School ID</th>\n      <th>type</th>\n      <th>size</th>\n      <th>budget</th>\n      <th>Student ID</th>\n      <th>student_name</th>\n      <th>gender</th>\n      <th>grade</th>\n      <th>reading_score</th>\n      <th>math_score</th>\n    </tr>\n    <tr>\n      <th>school_name</th>\n      <th></th>\n      <th></th>\n      <th></th>\n      <th></th>\n      <th></th>\n      <th></th>\n      <th></th>\n      <th></th>\n      <th></th>\n      <th></th>\n    </tr>\n  </thead>\n  <tbody>\n    <tr>\n      <th>Bailey High School</th>\n      <td>4976</td>\n      <td>4976</td>\n      <td>4976</td>\n      <td>4976</td>\n      <td>4976</td>\n      <td>4976</td>\n      <td>4976</td>\n      <td>4976</td>\n      <td>4976</td>\n      <td>4976</td>\n    </tr>\n    <tr>\n      <th>Cabrera High School</th>\n      <td>1858</td>\n      <td>1858</td>\n      <td>1858</td>\n      <td>1858</td>\n      <td>1858</td>\n      <td>1858</td>\n      <td>1858</td>\n      <td>1858</td>\n      <td>1858</td>\n      <td>1858</td>\n    </tr>\n    <tr>\n      <th>Figueroa High School</th>\n      <td>2949</td>\n      <td>2949</td>\n      <td>2949</td>\n      <td>2949</td>\n      <td>2949</td>\n      <td>2949</td>\n      <td>2949</td>\n      <td>2949</td>\n      <td>2949</td>\n      <td>2949</td>\n    </tr>\n    <tr>\n      <th>Ford High School</th>\n      <td>2739</td>\n      <td>2739</td>\n      <td>2739</td>\n      <td>2739</td>\n      <td>2739</td>\n      <td>2739</td>\n      <td>2739</td>\n      <td>2739</td>\n      <td>2739</td>\n      <td>2739</td>\n    </tr>\n    <tr>\n      <th>Griffin High School</th>\n      <td>1468</td>\n      <td>1468</td>\n      <td>1468</td>\n      <td>1468</td>\n      <td>1468</td>\n      <td>1468</td>\n      <td>1468</td>\n      <td>1468</td>\n      <td>1468</td>\n      <td>1468</td>\n    </tr>\n    <tr>\n      <th>Hernandez High School</th>\n      <td>4635</td>\n      <td>4635</td>\n      <td>4635</td>\n      <td>4635</td>\n      <td>4635</td>\n      <td>4635</td>\n      <td>4635</td>\n      <td>4635</td>\n      <td>4635</td>\n      <td>4635</td>\n    </tr>\n    <tr>\n      <th>Holden High School</th>\n      <td>427</td>\n      <td>427</td>\n      <td>427</td>\n      <td>427</td>\n      <td>427</td>\n      <td>427</td>\n      <td>427</td>\n      <td>427</td>\n      <td>427</td>\n      <td>427</td>\n    </tr>\n    <tr>\n      <th>Huang High School</th>\n      <td>2917</td>\n      <td>2917</td>\n      <td>2917</td>\n      <td>2917</td>\n      <td>2917</td>\n      <td>2917</td>\n      <td>2917</td>\n      <td>2917</td>\n      <td>2917</td>\n      <td>2917</td>\n    </tr>\n    <tr>\n      <th>Johnson High School</th>\n      <td>4761</td>\n      <td>4761</td>\n      <td>4761</td>\n      <td>4761</td>\n      <td>4761</td>\n      <td>4761</td>\n      <td>4761</td>\n      <td>4761</td>\n      <td>4761</td>\n      <td>4761</td>\n    </tr>\n    <tr>\n      <th>Pena High School</th>\n      <td>962</td>\n      <td>962</td>\n      <td>962</td>\n      <td>962</td>\n      <td>962</td>\n      <td>962</td>\n      <td>962</td>\n      <td>962</td>\n      <td>962</td>\n      <td>962</td>\n    </tr>\n    <tr>\n      <th>Rodriguez High School</th>\n      <td>3999</td>\n      <td>3999</td>\n      <td>3999</td>\n      <td>3999</td>\n      <td>3999</td>\n      <td>3999</td>\n      <td>3999</td>\n      <td>3999</td>\n      <td>3999</td>\n      <td>3999</td>\n    </tr>\n    <tr>\n      <th>Shelton High School</th>\n      <td>1761</td>\n      <td>1761</td>\n      <td>1761</td>\n      <td>1761</td>\n      <td>1761</td>\n      <td>1761</td>\n      <td>1761</td>\n      <td>1761</td>\n      <td>1761</td>\n      <td>1761</td>\n    </tr>\n    <tr>\n      <th>Thomas High School</th>\n      <td>1635</td>\n      <td>1635</td>\n      <td>1635</td>\n      <td>1635</td>\n      <td>1635</td>\n      <td>1635</td>\n      <td>1635</td>\n      <td>1635</td>\n      <td>1635</td>\n      <td>1635</td>\n    </tr>\n    <tr>\n      <th>Wilson High School</th>\n      <td>2283</td>\n      <td>2283</td>\n      <td>2283</td>\n      <td>2283</td>\n      <td>2283</td>\n      <td>2283</td>\n      <td>2283</td>\n      <td>2283</td>\n      <td>2283</td>\n      <td>2283</td>\n    </tr>\n    <tr>\n      <th>Wright High School</th>\n      <td>1800</td>\n      <td>1800</td>\n      <td>1800</td>\n      <td>1800</td>\n      <td>1800</td>\n      <td>1800</td>\n      <td>1800</td>\n      <td>1800</td>\n      <td>1800</td>\n      <td>1800</td>\n    </tr>\n  </tbody>\n</table>\n</div>"
     },
     "metadata": {},
     "execution_count": 40
    }
   ],
   "source": [
    "merged_df.groupby([\"school_name\"]).count()\n"
   ]
  },
  {
   "cell_type": "code",
   "execution_count": 39,
   "metadata": {},
   "outputs": [
    {
     "output_type": "execute_result",
     "data": {
      "text/plain": [
       "          School ID  school_name   size  budget  Student ID  student_name  \\\n",
       "type                                                                        \n",
       "Charter       12194        12194  12194   12194       12194         12194   \n",
       "District      26976        26976  26976   26976       26976         26976   \n",
       "\n",
       "          gender  grade  reading_score  math_score  \n",
       "type                                                \n",
       "Charter    12194  12194          12194       12194  \n",
       "District   26976  26976          26976       26976  "
      ],
      "text/html": "<div>\n<style scoped>\n    .dataframe tbody tr th:only-of-type {\n        vertical-align: middle;\n    }\n\n    .dataframe tbody tr th {\n        vertical-align: top;\n    }\n\n    .dataframe thead th {\n        text-align: right;\n    }\n</style>\n<table border=\"1\" class=\"dataframe\">\n  <thead>\n    <tr style=\"text-align: right;\">\n      <th></th>\n      <th>School ID</th>\n      <th>school_name</th>\n      <th>size</th>\n      <th>budget</th>\n      <th>Student ID</th>\n      <th>student_name</th>\n      <th>gender</th>\n      <th>grade</th>\n      <th>reading_score</th>\n      <th>math_score</th>\n    </tr>\n    <tr>\n      <th>type</th>\n      <th></th>\n      <th></th>\n      <th></th>\n      <th></th>\n      <th></th>\n      <th></th>\n      <th></th>\n      <th></th>\n      <th></th>\n      <th></th>\n    </tr>\n  </thead>\n  <tbody>\n    <tr>\n      <th>Charter</th>\n      <td>12194</td>\n      <td>12194</td>\n      <td>12194</td>\n      <td>12194</td>\n      <td>12194</td>\n      <td>12194</td>\n      <td>12194</td>\n      <td>12194</td>\n      <td>12194</td>\n      <td>12194</td>\n    </tr>\n    <tr>\n      <th>District</th>\n      <td>26976</td>\n      <td>26976</td>\n      <td>26976</td>\n      <td>26976</td>\n      <td>26976</td>\n      <td>26976</td>\n      <td>26976</td>\n      <td>26976</td>\n      <td>26976</td>\n      <td>26976</td>\n    </tr>\n  </tbody>\n</table>\n</div>"
     },
     "metadata": {},
     "execution_count": 39
    }
   ],
   "source": [
    "merged_df.groupby([\"type\"]).count()"
   ]
  },
  {
   "cell_type": "code",
   "execution_count": null,
   "metadata": {},
   "outputs": [],
   "source": []
  }
 ]
}